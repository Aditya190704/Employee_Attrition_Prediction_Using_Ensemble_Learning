{
 "cells": [
  {
   "cell_type": "markdown",
   "id": "8d4eb1da",
   "metadata": {},
   "source": [
    "                                                __Ensemble Algorithm Implementation__"
   ]
  },
  {
   "cell_type": "markdown",
   "id": "5d40ae38",
   "metadata": {},
   "source": []
  }
 ],
 "metadata": {
  "language_info": {
   "name": "python"
  }
 },
 "nbformat": 4,
 "nbformat_minor": 5
}
